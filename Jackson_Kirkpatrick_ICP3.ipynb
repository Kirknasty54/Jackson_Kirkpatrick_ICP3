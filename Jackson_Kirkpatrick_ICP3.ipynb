{
  "nbformat": 4,
  "nbformat_minor": 0,
  "metadata": {
    "colab": {
      "provenance": [],
      "authorship_tag": "ABX9TyOEzrqoVT0oTG7W8vSTIiBG",
      "include_colab_link": true
    },
    "kernelspec": {
      "name": "python3",
      "display_name": "Python 3"
    },
    "language_info": {
      "name": "python"
    }
  },
  "cells": [
    {
      "cell_type": "markdown",
      "metadata": {
        "id": "view-in-github",
        "colab_type": "text"
      },
      "source": [
        "<a href=\"https://colab.research.google.com/github/Kirknasty54/Jackson_Kirkpatrick_ICP3/blob/main/Jackson_Kirkpatrick_ICP3.ipynb\" target=\"_parent\"><img src=\"https://colab.research.google.com/assets/colab-badge.svg\" alt=\"Open In Colab\"/></a>"
      ]
    },
    {
      "cell_type": "code",
      "execution_count": 1,
      "metadata": {
        "id": "stKlQMiOWjkP"
      },
      "outputs": [],
      "source": [
        "import numpy as np"
      ]
    },
    {
      "cell_type": "code",
      "source": [
        "rand_vect = np.random.randint(1, 21, size=15)\n",
        "print(f\"Unaltered vector: {rand_vect}\")\n",
        "reshaped = rand_vect.reshape(3, 5)\n",
        "print(f\"Reshaped array: \\n{reshaped}\")\n",
        "for i in range(reshaped.shape[0]):\n",
        "  max_idx = np.argmax(reshaped[i])\n",
        "  reshaped[i, max_idx] = 0\n",
        "print(f\"Replaced max values\\n{reshaped}\")"
      ],
      "metadata": {
        "colab": {
          "base_uri": "https://localhost:8080/"
        },
        "id": "jrSFrestbH66",
        "outputId": "2878ddcd-32b1-4c64-aeeb-c9264ad0802e"
      },
      "execution_count": 37,
      "outputs": [
        {
          "output_type": "stream",
          "name": "stdout",
          "text": [
            "Unaltered vector: [19 12  4 20  5  2  9 17 17  7  9  6  7  1 14]\n",
            "Reshaped array: \n",
            "[[19 12  4 20  5]\n",
            " [ 2  9 17 17  7]\n",
            " [ 9  6  7  1 14]]\n",
            "Replaced max values\n",
            "[[19 12  4  0  5]\n",
            " [ 2  9  0 17  7]\n",
            " [ 9  6  7  1  0]]\n"
          ]
        }
      ]
    },
    {
      "cell_type": "code",
      "source": [
        "twod_array = np.empty((4, 3), dtype=np.int32)\n",
        "print(twod_array)\n",
        "print(twod_array.shape)\n",
        "print(type(twod_array))\n",
        "print(twod_array.dtype)"
      ],
      "metadata": {
        "colab": {
          "base_uri": "https://localhost:8080/"
        },
        "id": "_-44Eo--dazF",
        "outputId": "10a17f9f-8862-4574-fa44-7661e42ced9f"
      },
      "execution_count": 47,
      "outputs": [
        {
          "output_type": "stream",
          "name": "stdout",
          "text": [
            "[[ 1203046938       22867           0]\n",
            " [          0 -1998922768       30948]\n",
            " [-1999045376       30948   388253571]\n",
            " [-1596347950 -1998922704       30948]]\n",
            "(4, 3)\n",
            "<class 'numpy.ndarray'>\n",
            "int32\n"
          ]
        }
      ]
    },
    {
      "cell_type": "code",
      "source": [
        "array = np.array([[0, 1, 2],\n",
        "                  [3, 4, 5]])\n",
        "diagonal_sum = np.trace(array)\n",
        "print(diagonal_sum)"
      ],
      "metadata": {
        "colab": {
          "base_uri": "https://localhost:8080/"
        },
        "id": "yYNd7e6YfgBl",
        "outputId": "78ebf88c-d2ad-4476-d0d0-8f768df999f0"
      },
      "execution_count": 49,
      "outputs": [
        {
          "output_type": "stream",
          "name": "stdout",
          "text": [
            "7\n"
          ]
        }
      ]
    },
    {
      "cell_type": "code",
      "source": [
        "odds = np.arange(11, 71, 2)\n",
        "evens = np.arange(10, 71, 2)\n",
        "print(f\"Odd array:\\n{odds}\")\n",
        "print(f\"Even array:\\n{evens}\")\n",
        "\n",
        "array1 = np.array([1, 2, 3, 4, 5])\n",
        "array2 = np.array([6, 7, 8, 9, 10])\n",
        "add = array1 + array2\n",
        "subtract = array1 - array2\n",
        "multiplication = array1 * array2\n",
        "print(f\"Element-wise adition:{add}\")\n",
        "print(f\"Element-wise subtraction:{subtract}\")\n",
        "print(f\"Element-wise multiplication:{multiplication}\")\n",
        "\n",
        "given_array = np.array([[5.54, 3.38, 7.99],\n",
        "                        [3.54, 4.38, 6.99],\n",
        "                        [1.54, 2.39, 9.29]])\n",
        "row_sorted = np.sort(given_array, axis=1)\n",
        "col_sorted = np.sort(given_array, axis=0)\n",
        "print(f\"Sorted by row:\\n{row_sorted}\")\n",
        "print(f\"Sorted by column:\\n{col_sorted}\")"
      ],
      "metadata": {
        "colab": {
          "base_uri": "https://localhost:8080/"
        },
        "id": "7kgedKGkh56j",
        "outputId": "4c0e847a-89e1-4dfa-f908-cc9085798933"
      },
      "execution_count": 70,
      "outputs": [
        {
          "output_type": "stream",
          "name": "stdout",
          "text": [
            "Odd array:\n",
            "[11 13 15 17 19 21 23 25 27 29 31 33 35 37 39 41 43 45 47 49 51 53 55 57\n",
            " 59 61 63 65 67 69]\n",
            "Even array:\n",
            "[10 12 14 16 18 20 22 24 26 28 30 32 34 36 38 40 42 44 46 48 50 52 54 56\n",
            " 58 60 62 64 66 68 70]\n",
            "Element-wise adition:[ 7  9 11 13 15]\n",
            "Element-wise subtraction:[-5 -5 -5 -5 -5]\n",
            "Element-wise multiplication:[ 6 14 24 36 50]\n",
            "Sorted by row:\n",
            "[[3.38 5.54 7.99]\n",
            " [3.54 4.38 6.99]\n",
            " [1.54 2.39 9.29]]\n",
            "Sorted by column:\n",
            "[[1.54 2.39 6.99]\n",
            " [3.54 3.38 7.99]\n",
            " [5.54 4.38 9.29]]\n"
          ]
        }
      ]
    },
    {
      "cell_type": "code",
      "source": [
        "missing_data_array  = np.array([[4, 2, np.nan, 1],\n",
        "                                [11, 12, 14, 9],\n",
        "                                [5, np.nan, 1, np.nan]])\n",
        "missing_data = np.isnan(missing_data_array)\n",
        "print(missing_data)"
      ],
      "metadata": {
        "colab": {
          "base_uri": "https://localhost:8080/"
        },
        "id": "sGABVYXuqo5E",
        "outputId": "c1125906-013e-4dbc-8f26-c98645309c05"
      },
      "execution_count": 71,
      "outputs": [
        {
          "output_type": "stream",
          "name": "stdout",
          "text": [
            "[[False False  True False]\n",
            " [False False False False]\n",
            " [False  True False  True]]\n"
          ]
        }
      ]
    }
  ]
}